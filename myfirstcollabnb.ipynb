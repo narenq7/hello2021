{
  "nbformat": 4,
  "nbformat_minor": 0,
  "metadata": {
    "colab": {
      "name": "myfirstcollabnb",
      "provenance": [],
      "collapsed_sections": [],
      "authorship_tag": "ABX9TyNXmGLgl9pg7ZsUCYEx1VAu",
      "include_colab_link": true
    },
    "kernelspec": {
      "name": "python3",
      "display_name": "Python 3"
    }
  },
  "cells": [
    {
      "cell_type": "markdown",
      "metadata": {
        "id": "view-in-github",
        "colab_type": "text"
      },
      "source": [
        "<a href=\"https://colab.research.google.com/github/narenq7/hello2021/blob/main/myfirstcollabnb.ipynb\" target=\"_parent\"><img src=\"https://colab.research.google.com/assets/colab-badge.svg\" alt=\"Open In Colab\"/></a>"
      ]
    },
    {
      "cell_type": "code",
      "metadata": {
        "id": "B6TwbOCYxVa3",
        "colab": {
          "base_uri": "https://localhost:8080/"
        },
        "outputId": "8546160f-38f3-4638-8430-8275001040e8"
      },
      "source": [
        "hello =5\n",
        "print(hello)\n"
      ],
      "execution_count": null,
      "outputs": [
        {
          "output_type": "stream",
          "text": [
            "5\n"
          ],
          "name": "stdout"
        }
      ]
    },
    {
      "cell_type": "code",
      "metadata": {
        "id": "MSVm6G4JxYct"
      },
      "source": [
        ""
      ],
      "execution_count": null,
      "outputs": []
    }
  ]
}